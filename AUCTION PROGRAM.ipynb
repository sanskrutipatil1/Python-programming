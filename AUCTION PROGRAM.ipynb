{
 "cells": [
  {
   "cell_type": "markdown",
   "id": "e499f2b0",
   "metadata": {},
   "source": [
    "# Auction Program"
   ]
  },
  {
   "cell_type": "code",
   "execution_count": 5,
   "id": "673d14e6",
   "metadata": {},
   "outputs": [
    {
     "name": "stdout",
     "output_type": "stream",
     "text": [
      "What is your name? sanskruti\n",
      "what is your bid? Rs.3144\n",
      "Are there any other bidders? Type(Yes OR No)yes\n",
      "What is your name? mona\n",
      "what is your bid? Rs.2000\n",
      "Are there any other bidders? Type(Yes OR No)yes\n",
      "What is your name? anil\n",
      "what is your bid? Rs.5000\n",
      "Are there any other bidders? Type(Yes OR No)no\n",
      "\n",
      "\n",
      "The winner is anil with a bid of $5000\n"
     ]
    }
   ],
   "source": [
    "bids={}\n",
    "bidding_finished=False\n",
    "\n",
    "def find_highest_bidder(bids):\n",
    "    highest_bid=0\n",
    "    winner=\"\"\n",
    "    for bidder in bids:\n",
    "        bidding_amount=bids[bidder]\n",
    "        if bidding_amount>highest_bid:\n",
    "            highest_bid=bidding_amount\n",
    "            winner=bidder\n",
    "    print()\n",
    "    print()\n",
    "    print(f\"The winner is {bidder} with a bid of ${highest_bid}\")\n",
    "\n",
    "\n",
    "while not bidding_finished:\n",
    "    name=input(\"What is your name? \")\n",
    "    bid_amount=int(input(\"what is your bid? Rs.\"))\n",
    "    bids[name]=bid_amount\n",
    "    more_bids=input(\"Are there any other bidders? Type(Yes OR No)\").lower()\n",
    "    if more_bids==\"no\":\n",
    "        bidding_finished=True\n",
    "        find_highest_bidder(bids)\n",
    "        \n",
    "        \n",
    "        \n",
    "    \n",
    "  "
   ]
  },
  {
   "cell_type": "code",
   "execution_count": null,
   "id": "0a4c4cdb",
   "metadata": {},
   "outputs": [],
   "source": []
  }
 ],
 "metadata": {
  "kernelspec": {
   "display_name": "Python 3 (ipykernel)",
   "language": "python",
   "name": "python3"
  },
  "language_info": {
   "codemirror_mode": {
    "name": "ipython",
    "version": 3
   },
   "file_extension": ".py",
   "mimetype": "text/x-python",
   "name": "python",
   "nbconvert_exporter": "python",
   "pygments_lexer": "ipython3",
   "version": "3.9.12"
  }
 },
 "nbformat": 4,
 "nbformat_minor": 5
}
