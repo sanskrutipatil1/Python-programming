{
 "cells": [
  {
   "cell_type": "markdown",
   "id": "a11b6432",
   "metadata": {},
   "source": [
    "## CAESAR-CIPHER"
   ]
  },
  {
   "cell_type": "code",
   "execution_count": null,
   "id": "97bc0aee",
   "metadata": {},
   "outputs": [],
   "source": [
    "#caesar-cipher by creating two different function\\\n",
    "alphabet = ['a', 'b', 'c', 'd', 'e', 'f', 'g', 'h', 'i', 'j', 'k', 'l', 'm', 'n', 'o', 'p', 'q', 'r', 's', 't', 'u', 'v', 'w', 'x', 'y', 'z', 'a', 'b', 'c', 'd', 'e', 'f', 'g', 'h', 'i', 'j', 'k', 'l', 'm', 'n', 'o', 'p', 'q', 'r', 's', 't', 'u', 'v', 'w', 'x', 'y', 'z']\n",
    "\n",
    "direction=input(\"Type 'encode' to encrypt, type 'decode' to decrypt:\\n\")\n",
    "\n",
    "\n",
    "text=input(\"type your message\\n\").lower()\n",
    "shift=int(input(\"Type the shift number/n\"))\n",
    "\n",
    "# Creating the encrypt function with parameters in which it takes the text and encode it\n",
    "\n",
    "def encrypt(plain_text,shift_amount):\n",
    "    end_text=\"\"\n",
    "    for letter in plain_text:\n",
    "        position=alphabet.index(letter)\n",
    "        new_position=position+shift_amount\n",
    "        end_text+=alphabet[new_position]\n",
    "    print(f\"The encoded text is {end_text}\")\n",
    "    \n",
    "# Creating the decrypt function with parameters in which it takes the text and decode it\n",
    "\n",
    "def decrypt(cipher_text,shift_amount):\n",
    "    end_text=\"\"\n",
    "    for letter in cipher_text:\n",
    "        position=alphabet.index(letter)\n",
    "        new_position=position-shift_amount\n",
    "        end_text+=alphabet[new_position]\n",
    "    print(f\"The decoded text is {end_text}\")\n",
    "    \n",
    "if direction == \"encode\":\n",
    "    encrypt(plain_text=text, shift_amount=shift)\n",
    "elif direction == \"decode\":\n",
    "    decrypt(cipher_text=text, shift_amount=shift)\n",
    "else:\n",
    "    print(\"Sorry!! error please type correctly\")\n",
    "\n",
    "    \n",
    "\n"
   ]
  },
  {
   "cell_type": "code",
   "execution_count": null,
   "id": "7b680434",
   "metadata": {},
   "outputs": [],
   "source": [
    "#combining both the function into single function caesar\n",
    "alphabet = ['a', 'b', 'c', 'd', 'e', 'f', 'g', 'h', 'i', 'j', 'k', 'l', 'm', 'n', 'o', 'p', 'q', 'r', 's', 't', 'u', 'v', 'w', 'x', 'y', 'z', 'a', 'b', 'c', 'd', 'e', 'f', 'g', 'h', 'i', 'j', 'k', 'l', 'm', 'n', 'o', 'p', 'q', 'r', 's', 't', 'u', 'v', 'w', 'x', 'y', 'z']\n",
    "\n",
    "direction = input(\"Type 'encode' to encrypt, type 'decode' to decrypt:\\n\")\n",
    "text = input(\"Type your message:\\n\").lower()\n",
    "shift = int(input(\"Type the shift number:\\n\"))\n",
    "\n",
    "\n",
    "\n",
    "def caesar(start_text, shift_amount, cipher_direction):\n",
    "    end_text = \"\"\n",
    "    if cipher_direction == \"decode\":\n",
    "        shift_amount *= -1\n",
    "    for letter in start_text:\n",
    "        position = alphabet.index(letter)\n",
    "        new_position = position + shift_amount\n",
    "        end_text += alphabet[new_position]\n",
    "    print(f\"Here's the {direction}d result: {end_text}\")\n",
    "\n",
    "caesar(start_text=text, shift_amount=shift, cipher_direction=direction)"
   ]
  },
  {
   "cell_type": "code",
   "execution_count": null,
   "id": "c0ddcef4",
   "metadata": {},
   "outputs": [],
   "source": [
    "alphabet = ['a', 'b', 'c', 'd', 'e', 'f', 'g', 'h', 'i', 'j', 'k', 'l', 'm', 'n', 'o', 'p', 'q', 'r', 's', 't', 'u', 'v', 'w', 'x', 'y', 'z', 'a', 'b', 'c', 'd', 'e', 'f', 'g', 'h', 'i', 'j', 'k', 'l', 'm', 'n', 'o', 'p', 'q', 'r', 's', 't', 'u', 'v', 'w', 'x', 'y', 'z']\n",
    "#if the user enters a number/symbol/space it will remain same only the letters will change \n",
    "def caesar(start_text, shift_amount, cipher_direction):\n",
    "    end_text = \"\"\n",
    "    if cipher_direction == \"decode\":\n",
    "    shift_amount *= -1\n",
    "    for char in start_text:\n",
    "        if char in alphabet:\n",
    "            position = alphabet.index(char)\n",
    "            new_position = position + shift_amount\n",
    "            end_text += alphabet[new_position]\n",
    "        else:\n",
    "            end_text += char\n",
    "    print(f\"Here's the {cipher_direction}d result: {end_text}\")\n",
    "\n",
    "should_end = False\n",
    "while not should_end:\n",
    "\n",
    "    direction = input(\"Type 'encode' to encrypt, type 'decode' to decrypt:\\n\")\n",
    "    text = input(\"Type your message:\\n\").lower()\n",
    "    shift = int(input(\"Type the shift number:\\n\"))\n",
    "    shift = shift % 26\n",
    "    caesar(start_text=text, shift_amount=shift, cipher_direction=direction)\n",
    "\n",
    "    restart = input(\"Type 'yes' if you want to go again. Otherwise type 'no'.\\n\")\n",
    "    if restart == \"no\":\n",
    "    should_end = True\n",
    "    print(\"Goodbye\")"
   ]
  }
 ],
 "metadata": {
  "kernelspec": {
   "display_name": "Python 3 (ipykernel)",
   "language": "python",
   "name": "python3"
  },
  "language_info": {
   "codemirror_mode": {
    "name": "ipython",
    "version": 3
   },
   "file_extension": ".py",
   "mimetype": "text/x-python",
   "name": "python",
   "nbconvert_exporter": "python",
   "pygments_lexer": "ipython3",
   "version": "3.9.12"
  }
 },
 "nbformat": 4,
 "nbformat_minor": 5
}
