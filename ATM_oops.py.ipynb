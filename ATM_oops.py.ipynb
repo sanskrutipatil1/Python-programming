{
 "cells": [
  {
   "cell_type": "markdown",
   "id": "ffd6cafb",
   "metadata": {},
   "source": [
    "# ATM CODE USING OOPS CONCEPTS"
   ]
  },
  {
   "cell_type": "code",
   "execution_count": 69,
   "id": "ff0b1680",
   "metadata": {},
   "outputs": [],
   "source": [
    "class Atm:\n",
    "     #CONSTRUCTOR \n",
    "        def __init__(self):\n",
    "            self.pin=0\n",
    "            self.balance=0\n",
    "            \n",
    "            self.menu()\n",
    "           \n",
    "        def menu(self):\n",
    "            user_input=input(\"\"\"\n",
    "                           Hello!! Would You like to proceed?\n",
    "                           1.Enter 1 to create pin.\n",
    "                           2.Enter 2 to deposit.\n",
    "                           3.Enter 3 to withdraw.\n",
    "                           4.Enter 4 to check balance.\n",
    "                           5.Enter 5 to EXIT.\n",
    "                       \"\"\")\n",
    "            if user_input==\"1\":\n",
    "                self.create_pin()\n",
    "                self.menu()\n",
    "            elif user_input==\"2\":\n",
    "                self.deposit()\n",
    "            elif user_input==\"3\":\n",
    "                self.withdraw()\n",
    "            elif user_input==\"4\":\n",
    "                self.check_balance()\n",
    "            elif user_input==\"5\":\n",
    "                print(\"EXIT\")\n",
    "                self.menu()\n",
    "            else:\n",
    "                print(\"please enter valid number\")\n",
    "            \n",
    "        \n",
    "        def create_pin(self):\n",
    "            self.pin=int(input(\"ENTER YOUR PIN\\n\"))\n",
    "            print(\"Pin set sucessfully!!!\")\n",
    "        \n",
    "        def deposit(self):\n",
    "            temp=int(input(\"Enter your pin\\n\"))\n",
    "            if temp==self.pin:\n",
    "                amount=int(input(\"Enter Amount\\n\"))\n",
    "                self.balance = self.balance + amount\n",
    "                print(\"You have successfully deposited the money\")\n",
    "            else:\n",
    "                print(\"Invalid Pin\")\n",
    "        \n",
    "        def withdraw(self):\n",
    "            temp=int(input(\"Enter your pin\\n\"))\n",
    "            if temp==self.pin:\n",
    "                amount=int(input(\"Enter Amount\\n\"))\n",
    "                if amount<self.balance:\n",
    "                    self.balance-=amount\n",
    "                    print(\"Operation Successfull\")\n",
    "                else:\n",
    "                    print(\"Balance is insufficient\")\n",
    "            else:\n",
    "                print(\"Invalid Pin\")       \n",
    "                \n",
    "        def check_balance(self):\n",
    "            temp=int(input(\"Enter your pin\\n\"))\n",
    "            if temp==self.pin:\n",
    "                print(self.balance)\n",
    "            else:\n",
    "                print(\"Invalid Pin\")\n",
    "\n",
    "\n",
    "                \n",
    "            \n",
    "            "
   ]
  },
  {
   "cell_type": "code",
   "execution_count": 70,
   "id": "a3d530d3",
   "metadata": {},
   "outputs": [
    {
     "name": "stdout",
     "output_type": "stream",
     "text": [
      "\n",
      "                           Hello!! Would You like to proceed?\n",
      "                           1.Enter 1 to create pin.\n",
      "                           2.Enter 2 to deposit.\n",
      "                           3.Enter 3 to withdraw.\n",
      "                           4.Enter 4 to check balance.\n",
      "                           5.Enter 5 to EXIT.\n",
      "                       1\n",
      "ENTER YOUR PIN\n",
      "1122\n",
      "Pin set sucessfully!!!\n",
      "\n",
      "                           Hello!! Would You like to proceed?\n",
      "                           1.Enter 1 to create pin.\n",
      "                           2.Enter 2 to deposit.\n",
      "                           3.Enter 3 to withdraw.\n",
      "                           4.Enter 4 to check balance.\n",
      "                           5.Enter 5 to EXIT.\n",
      "                       2\n",
      "Enter your pin\n",
      "10000\n",
      "Invalid Pin\n"
     ]
    }
   ],
   "source": [
    "sbi=Atm()"
   ]
  },
  {
   "cell_type": "code",
   "execution_count": 72,
   "id": "7f3eb842",
   "metadata": {},
   "outputs": [
    {
     "name": "stdout",
     "output_type": "stream",
     "text": [
      "\n",
      "                           Hello!! Would You like to proceed?\n",
      "                           1.Enter 1 to create pin.\n",
      "                           2.Enter 2 to deposit.\n",
      "                           3.Enter 3 to withdraw.\n",
      "                           4.Enter 4 to check balance.\n",
      "                           5.Enter 5 to EXIT.\n",
      "                       2\n",
      "Enter your pin\n",
      "1122\n",
      "Enter Amount\n",
      "10000\n",
      "You have successfully deposited the money\n"
     ]
    }
   ],
   "source": [
    "sbi.menu()"
   ]
  },
  {
   "cell_type": "code",
   "execution_count": 73,
   "id": "9bddcc39",
   "metadata": {},
   "outputs": [
    {
     "name": "stdout",
     "output_type": "stream",
     "text": [
      "\n",
      "                           Hello!! Would You like to proceed?\n",
      "                           1.Enter 1 to create pin.\n",
      "                           2.Enter 2 to deposit.\n",
      "                           3.Enter 3 to withdraw.\n",
      "                           4.Enter 4 to check balance.\n",
      "                           5.Enter 5 to EXIT.\n",
      "                       3\n",
      "Enter your pin\n",
      "1122\n",
      "Enter Amount\n",
      "2000\n",
      "Operation Successfull\n"
     ]
    }
   ],
   "source": [
    "sbi.menu()"
   ]
  },
  {
   "cell_type": "code",
   "execution_count": 74,
   "id": "cdd217ec",
   "metadata": {},
   "outputs": [
    {
     "name": "stdout",
     "output_type": "stream",
     "text": [
      "\n",
      "                           Hello!! Would You like to proceed?\n",
      "                           1.Enter 1 to create pin.\n",
      "                           2.Enter 2 to deposit.\n",
      "                           3.Enter 3 to withdraw.\n",
      "                           4.Enter 4 to check balance.\n",
      "                           5.Enter 5 to EXIT.\n",
      "                       2\n",
      "Enter your pin\n",
      "1122\n",
      "Enter Amount\n",
      "11000\n",
      "You have successfully deposited the money\n"
     ]
    }
   ],
   "source": [
    "sbi.menu()"
   ]
  },
  {
   "cell_type": "code",
   "execution_count": 76,
   "id": "daef3207",
   "metadata": {},
   "outputs": [
    {
     "name": "stdout",
     "output_type": "stream",
     "text": [
      "\n",
      "                           Hello!! Would You like to proceed?\n",
      "                           1.Enter 1 to create pin.\n",
      "                           2.Enter 2 to deposit.\n",
      "                           3.Enter 3 to withdraw.\n",
      "                           4.Enter 4 to check balance.\n",
      "                           5.Enter 5 to EXIT.\n",
      "                       3\n",
      "Enter your pin\n",
      "1122\n",
      "Enter Amount\n",
      "12000\n",
      "Operation Successfull\n"
     ]
    }
   ],
   "source": [
    "sbi.menu()"
   ]
  },
  {
   "cell_type": "code",
   "execution_count": 77,
   "id": "d7e1d1f6",
   "metadata": {},
   "outputs": [
    {
     "name": "stdout",
     "output_type": "stream",
     "text": [
      "\n",
      "                           Hello!! Would You like to proceed?\n",
      "                           1.Enter 1 to create pin.\n",
      "                           2.Enter 2 to deposit.\n",
      "                           3.Enter 3 to withdraw.\n",
      "                           4.Enter 4 to check balance.\n",
      "                           5.Enter 5 to EXIT.\n",
      "                       4\n",
      "Enter your pin\n",
      "1122\n",
      "7000\n"
     ]
    }
   ],
   "source": [
    "sbi.menu()"
   ]
  },
  {
   "cell_type": "code",
   "execution_count": null,
   "id": "9bfc0e59",
   "metadata": {},
   "outputs": [],
   "source": []
  }
 ],
 "metadata": {
  "kernelspec": {
   "display_name": "Python 3 (ipykernel)",
   "language": "python",
   "name": "python3"
  },
  "language_info": {
   "codemirror_mode": {
    "name": "ipython",
    "version": 3
   },
   "file_extension": ".py",
   "mimetype": "text/x-python",
   "name": "python",
   "nbconvert_exporter": "python",
   "pygments_lexer": "ipython3",
   "version": "3.9.12"
  }
 },
 "nbformat": 4,
 "nbformat_minor": 5
}
