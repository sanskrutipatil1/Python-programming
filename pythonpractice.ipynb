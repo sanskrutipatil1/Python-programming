{
 "cells": [
  {
   "cell_type": "code",
   "execution_count": 3,
   "id": "b2a33fee",
   "metadata": {},
   "outputs": [
    {
     "name": "stdout",
     "output_type": "stream",
     "text": [
      "what is your name? mayur\n",
      "the total length of the name is 5\n"
     ]
    }
   ],
   "source": [
    "x=len(input(\"what is your name? \"))\n",
    "print(\"the total length of the name is\",x)"
   ]
  },
  {
   "cell_type": "code",
   "execution_count": 8,
   "id": "2c4f6e1a",
   "metadata": {},
   "outputs": [
    {
     "name": "stdout",
     "output_type": "stream",
     "text": [
      "enter two digit number\n",
      "54\n",
      "9\n"
     ]
    }
   ],
   "source": [
    "a=input(\"enter two digit number\\n\")\n",
    "b=int(a[0])+int(a[1])\n",
    "print(b)"
   ]
  },
  {
   "cell_type": "code",
   "execution_count": 11,
   "id": "d097151e",
   "metadata": {},
   "outputs": [
    {
     "name": "stdout",
     "output_type": "stream",
     "text": [
      "enter your height1.75\n",
      "enter your weight80\n",
      "26.122448979591837\n"
     ]
    }
   ],
   "source": [
    "height=float(input(\"enter your height\"))\n",
    "weight=float(input(\"enter your weight\"))\n",
    "BMI=weight/(height**2)\n",
    "print(BMI)"
   ]
  },
  {
   "cell_type": "code",
   "execution_count": 1,
   "id": "9f02133b",
   "metadata": {},
   "outputs": [
    {
     "name": "stdout",
     "output_type": "stream",
     "text": [
      "what is your age:\n",
      " 22\n",
      "you have 24820 days , 816 months and 3536 weeks left.\n"
     ]
    }
   ],
   "source": [
    "age=int(input(\"what is your age:\\n \"))\n",
    "numOfYearsRem=90-age\n",
    "no_days=numOfYearsRem*365\n",
    "no_weeks=numOfYearsRem*52\n",
    "no_months=numOfYearsRem*12\n",
    "result=f\"you have {no_days} days , {no_months} months and {no_weeks} weeks left.\"\n",
    "print(result)"
   ]
  },
  {
   "cell_type": "markdown",
   "id": "23e5c0cd",
   "metadata": {},
   "source": [
    "### calculator"
   ]
  },
  {
   "cell_type": "code",
   "execution_count": 2,
   "id": "b736473d",
   "metadata": {},
   "outputs": [
    {
     "name": "stdout",
     "output_type": "stream",
     "text": [
      "welcome to your tip calculator\n",
      "total amount of bill\n",
      "100\n",
      "how much do you wanna tip 10, 12 or 15\n",
      "10\n",
      "how many people are there?:- 5\n",
      "22\n"
     ]
    }
   ],
   "source": [
    "print(\"welcome to your tip calculator\")\n",
    "total=float(input(\"total amount of bill\\n\"))\n",
    "tip=int(input(\"how much do you wanna tip 10, 12 or 15\\n\"))\n",
    "people=int(input(\"how many people are there?:- \"))\n",
    "total_bill=total*(1+(tip/100))\n",
    "per_person=round(total_bill/people)\n",
    "print(per_person)\n"
   ]
  },
  {
   "cell_type": "markdown",
   "id": "6d91ae76",
   "metadata": {},
   "source": [
    "# check if evenor odd"
   ]
  },
  {
   "cell_type": "code",
   "execution_count": 1,
   "id": "9c78581c",
   "metadata": {},
   "outputs": [
    {
     "name": "stdout",
     "output_type": "stream",
     "text": [
      "enter the number\n",
      "26\n",
      "THE NUMBER IS EVEN!!\n"
     ]
    }
   ],
   "source": [
    "number=int(input(\"enter the number\\n\"))\n",
    "even=number%2\n",
    "\n",
    "if even==0:\n",
    "    print(\"THE NUMBER IS EVEN!!\")\n",
    "else:\n",
    "    print(\"THE NUMBER IS ODD!!\")\n",
    "    \n"
   ]
  },
  {
   "cell_type": "markdown",
   "id": "c124ecef",
   "metadata": {},
   "source": [
    "## leap year or not"
   ]
  },
  {
   "cell_type": "code",
   "execution_count": 10,
   "id": "ce9f11bc",
   "metadata": {},
   "outputs": [
    {
     "name": "stdout",
     "output_type": "stream",
     "text": [
      "enter the year\n",
      "2000\n",
      "THE year is leap year!!\n"
     ]
    }
   ],
   "source": [
    "year=int(input(\"enter the year\\n\"))\n",
    "even=year%4\n",
    "\n",
    "if even==0:\n",
    "    if year%100==0:\n",
    "        if year%400==0:\n",
    "           print(\"THE year is leap year!!\")\n",
    "        else:\n",
    "            print(\"THE year is not leap year!!\")\n",
    "\n",
    "    else: \n",
    "        print(\"THE year is leap year!!\")\n",
    "else:\n",
    "    print(\"THE year is not leap year!!\")"
   ]
  },
  {
   "cell_type": "markdown",
   "id": "b875a4ab",
   "metadata": {},
   "source": [
    "# pizza order "
   ]
  },
  {
   "cell_type": "code",
   "execution_count": 13,
   "id": "22f6ac58",
   "metadata": {},
   "outputs": [
    {
     "name": "stdout",
     "output_type": "stream",
     "text": [
      "welcome to chinnus pizza !!!please order your pizza:)\n",
      "what size do you want? 'S','M' OR 'L'  L\n",
      "do you want to add pepporoni? 'Y' OR 'N'  Y\n",
      "do you want to add chesse? 'Y' OR 'N'  Y\n",
      "Your total bill is Rs29\n"
     ]
    }
   ],
   "source": [
    "print(\"welcome to chinnus pizza !!!please order your pizza:)\")\n",
    "size=input(\"what size do you want? 'S','M' OR 'L'  \") #pizza size \n",
    "add_pepporoni=input(\"do you want to add pepporoni? 'Y' OR 'N'  \")\n",
    "add_chesse=input(\"do you want to add chesse? 'Y' OR 'N'  \")\n",
    "\n",
    "bill=0\n",
    "if size==\"S\":\n",
    "    bill+=15\n",
    "elif size==\"M\":\n",
    "    bill+=20\n",
    "elif size==\"L\":\n",
    "    bill+=25\n",
    "else:\n",
    "    print(\"sorry,the value you have type is incorrect.\")\n",
    "\n",
    "if add_pepporoni==\"Y\":\n",
    "    if size==\"S\":\n",
    "        bill+=2\n",
    "    else:\n",
    "        bill+=3\n",
    "        \n",
    "if add_chesse==\"Y\":\n",
    "    bill+=1\n",
    "    \n",
    "print(F\"Your total bill is Rs{bill}\")\n",
    "    \n",
    "    "
   ]
  },
  {
   "cell_type": "markdown",
   "id": "09eb31a2",
   "metadata": {},
   "source": [
    "## choose the ramdom name for paying the bill "
   ]
  },
  {
   "cell_type": "code",
   "execution_count": 19,
   "id": "9e789cdd",
   "metadata": {},
   "outputs": [
    {
     "name": "stdout",
     "output_type": "stream",
     "text": [
      "Give everybody names. Separated by coma!!!sans,sayali,chinnu,mayur\n",
      "mayur will pay the bill !!\n"
     ]
    }
   ],
   "source": [
    "#First take the input # alternative option for this program is using choice() func in random variable.\n",
    "import random\n",
    "names_input=input(\"Give everybody names. Separated by coma!!!\")\n",
    "names=names_input.split(\",\") # split using split function it will create a list\n",
    "tot_items=len(names) # get the total number of elements in the list it will be used in random function\n",
    "random_name=random.randint(0,tot_items-1) # it will give you the random number \n",
    "selected_name=names[random_name] # then use it in list variable \n",
    "print(f\"{selected_name} will pay the bill !!\")"
   ]
  },
  {
   "cell_type": "markdown",
   "id": "2f0d5e21",
   "metadata": {},
   "source": [
    "## Treasure map "
   ]
  },
  {
   "cell_type": "code",
   "execution_count": 34,
   "id": "b81ed7a4",
   "metadata": {},
   "outputs": [
    {
     "name": "stdout",
     "output_type": "stream",
     "text": [
      "['✉️', '✉️', '✉️']\n",
      "['✉️', '✉️', '✉️']\n",
      "['✉️', '✉️', '✉️']\n",
      "Where do you want to put the treasure  23\n",
      "['✉️', '✉️', '✉️']\n",
      "['✉️', '✉️', '✉️']\n",
      "['✉️', 'X', '✉️']\n"
     ]
    }
   ],
   "source": [
    "row1=[\"✉️\",\"✉️\",\"✉️\"]\n",
    "row2=[\"✉️\",\"✉️\",\"✉️\"]\n",
    "row3=[\"✉️\",\"✉️\",\"✉️\"]\n",
    "map=[row1,row2,row3]\n",
    "print(f\"{row1}\\n{row2}\\n{row3}\")\n",
    "position=input(\"Where do you want to put the treasure  \")\n",
    "horizontal=int(position[0])\n",
    "vertical=int(position[1])\n",
    "map[vertical-1][horizontal-1]=\"X\"\n",
    "\n",
    "print(f\"{row1}\\n{row2}\\n{row3}\")"
   ]
  },
  {
   "cell_type": "markdown",
   "id": "f20c8b73",
   "metadata": {},
   "source": [
    "## average of the numbers using for loop"
   ]
  },
  {
   "cell_type": "code",
   "execution_count": 13,
   "id": "67a4ecd9",
   "metadata": {},
   "outputs": [
    {
     "name": "stdout",
     "output_type": "stream",
     "text": [
      "Enter the number. Separated by space!!!4 8 6 2\n",
      "5\n"
     ]
    }
   ],
   "source": [
    "number_input=input(\"Enter the number. Separated by space!!!\")\n",
    "numbers=number_input.split()\n",
    "for n in range(0,len(numbers)):\n",
    "    numbers[n]=int(numbers[n])\n",
    "total_heights=0\n",
    "for heights in numbers:\n",
    "    total_heights+=heights\n",
    "len_number=0\n",
    "for num in numbers:\n",
    "    len_number+=1\n",
    "average=round(total_heights/len_number)\n",
    "print(average)"
   ]
  },
  {
   "cell_type": "code",
   "execution_count": 14,
   "id": "c7ab8b04",
   "metadata": {},
   "outputs": [
    {
     "name": "stdout",
     "output_type": "stream",
     "text": [
      "Enter the number. Separated by space!!!89 65 58 91\n",
      "the highest score is 91\n"
     ]
    }
   ],
   "source": [
    "## highest score \n",
    "hnumber_input=input(\"Enter the number. Separated by space!!!\")\n",
    "hnumbers=hnumber_input.split()\n",
    "for n in range(0,len(hnumbers)):\n",
    "    hnumbers[n]=int(hnumbers[n])\n",
    "\n",
    "highest_score=0\n",
    "for score in hnumbers:\n",
    "    if score>highest_score:\n",
    "        highest_score=score\n",
    "print(f\"the highest score is {highest_score}\")"
   ]
  },
  {
   "cell_type": "code",
   "execution_count": 18,
   "id": "1a34c5db",
   "metadata": {},
   "outputs": [
    {
     "name": "stdout",
     "output_type": "stream",
     "text": [
      "2550\n",
      "2550\n"
     ]
    }
   ],
   "source": [
    "## adding even numbers using for loop \n",
    "total=0\n",
    "for n in range(2,101,2):\n",
    "    total+=n\n",
    "print(total)\n",
    "\n",
    "total2=0\n",
    "for n in range(1,101):\n",
    "    if n%2==0:        \n",
    "        total2+=n\n",
    "print(total2)\n"
   ]
  },
  {
   "cell_type": "code",
   "execution_count": 21,
   "id": "3c0dc0fd",
   "metadata": {},
   "outputs": [
    {
     "name": "stdout",
     "output_type": "stream",
     "text": [
      "1\n",
      "2\n",
      "fizz\n",
      "4\n",
      "buzz\n",
      "fizz\n",
      "7\n",
      "8\n",
      "fizz\n",
      "buzz\n",
      "11\n",
      "fizz\n",
      "13\n",
      "14\n",
      "fizzbuzz\n",
      "16\n",
      "17\n",
      "fizz\n",
      "19\n",
      "buzz\n",
      "fizz\n",
      "22\n",
      "23\n",
      "fizz\n",
      "buzz\n",
      "26\n",
      "fizz\n",
      "28\n",
      "29\n",
      "fizzbuzz\n",
      "31\n",
      "32\n",
      "fizz\n",
      "34\n",
      "buzz\n",
      "fizz\n",
      "37\n",
      "38\n",
      "fizz\n",
      "buzz\n",
      "41\n",
      "fizz\n",
      "43\n",
      "44\n",
      "fizzbuzz\n",
      "46\n",
      "47\n",
      "fizz\n",
      "49\n",
      "buzz\n",
      "fizz\n",
      "52\n",
      "53\n",
      "fizz\n",
      "buzz\n",
      "56\n",
      "fizz\n",
      "58\n",
      "59\n",
      "fizzbuzz\n",
      "61\n",
      "62\n",
      "fizz\n",
      "64\n",
      "buzz\n",
      "fizz\n",
      "67\n",
      "68\n",
      "fizz\n",
      "buzz\n",
      "71\n",
      "fizz\n",
      "73\n",
      "74\n",
      "fizzbuzz\n",
      "76\n",
      "77\n",
      "fizz\n",
      "79\n",
      "buzz\n",
      "fizz\n",
      "82\n",
      "83\n",
      "fizz\n",
      "buzz\n",
      "86\n",
      "fizz\n",
      "88\n",
      "89\n",
      "fizzbuzz\n",
      "91\n",
      "92\n",
      "fizz\n",
      "94\n",
      "buzz\n",
      "fizz\n",
      "97\n",
      "98\n",
      "fizz\n"
     ]
    }
   ],
   "source": [
    "for num in range(1,100):\n",
    "    if num%3==0 and num%5==0:\n",
    "        print(\"fizzbuzz\")\n",
    "    elif num%5==0:\n",
    "        print(\"buzz\")\n",
    "    elif num%3==0:\n",
    "        print(\"fizz\")\n",
    "    else:\n",
    "        print(num)"
   ]
  }
 ],
 "metadata": {
  "kernelspec": {
   "display_name": "Python 3 (ipykernel)",
   "language": "python",
   "name": "python3"
  },
  "language_info": {
   "codemirror_mode": {
    "name": "ipython",
    "version": 3
   },
   "file_extension": ".py",
   "mimetype": "text/x-python",
   "name": "python",
   "nbconvert_exporter": "python",
   "pygments_lexer": "ipython3",
   "version": "3.9.12"
  }
 },
 "nbformat": 4,
 "nbformat_minor": 5
}
